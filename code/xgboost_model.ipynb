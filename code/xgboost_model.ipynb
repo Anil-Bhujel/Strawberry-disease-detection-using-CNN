{
 "cells": [
  {
   "cell_type": "code",
   "execution_count": 1,
   "id": "expressed-chemistry",
   "metadata": {},
   "outputs": [],
   "source": [
    "import numpy as np \n",
    "import pandas as pd \n",
    "import matplotlib.pyplot as plt\n",
    "import glob\n",
    "import cv2\n",
    "import pickle\n",
    "from datetime import datetime \n",
    "from sklearn.metrics import roc_auc_score\n",
    "from sklearn import metrics\n",
    "\n",
    "from tensorflow.keras.models import Model\n",
    "#from keras.layers import Conv2D\n",
    "import os\n",
    "from tensorflow.keras.applications.vgg16 import VGG16\n",
    "\n",
    "#XGBOOST\n",
    "import xgboost as xgb"
   ]
  },
  {
   "cell_type": "code",
   "execution_count": 50,
   "id": "lonely-pursuit",
   "metadata": {},
   "outputs": [],
   "source": [
    "file_dir = \"D:/Anil/Dataset/gray_mold/lgb_data/k-fold/kf5/\"\n",
    "\n",
    "#Resizing images is optional, CNNs are ok with large images\n",
    "SIZE_X = 512 #Resize images (height  = X, width = Y)\n",
    "SIZE_Y = 512\n",
    "\n",
    "#Capture training image info as a list\n",
    "train_images = []\n",
    "\n",
    "for img_path in glob.glob(os.path.join(file_dir,\"train\", \"*.png\")):\n",
    "    img = cv2.imread(img_path, cv2.IMREAD_COLOR)       \n",
    "    img = cv2.resize(img, (SIZE_Y, SIZE_X))\n",
    "    img = cv2.cvtColor(img, cv2.COLOR_RGB2BGR)\n",
    "    train_images.append(img)\n",
    "    #train_labels.append(label)\n",
    "    \n",
    "#Convert list to array for machine learning processing        \n",
    "train_images = np.array(train_images)\n",
    "\n",
    "#Capture mask/label info as a list\n",
    "train_masks = [] \n",
    "for mask_path in glob.glob(os.path.join(file_dir,\"train_mask\", \"*.png\")):\n",
    "    mask = cv2.imread(mask_path, 0)       \n",
    "    mask = cv2.resize(mask, (SIZE_Y, SIZE_X))\n",
    "    mask[mask > 0] = 255\n",
    "    #mask = cv2.cvtColor(mask, cv2.COLOR_RGB2BGR)\n",
    "    train_masks.append(mask)\n",
    "    #train_labels.append(label)\n",
    "    \n",
    "#Convert list to array for machine learning processing          \n",
    "train_masks = np.array(train_masks)\n"
   ]
  },
  {
   "cell_type": "code",
   "execution_count": 51,
   "id": "imposed-cylinder",
   "metadata": {},
   "outputs": [
    {
     "data": {
      "text/plain": [
       "(90, 512, 512, 1)"
      ]
     },
     "execution_count": 51,
     "metadata": {},
     "output_type": "execute_result"
    }
   ],
   "source": [
    "#Use customary x_train and y_train variables\n",
    "X_train = train_images\n",
    "y_train = train_masks\n",
    "y_train = np.expand_dims(y_train, axis=3) #May not be necessary.. leftover from previous code \n",
    "y_train.shape"
   ]
  },
  {
   "cell_type": "code",
   "execution_count": 52,
   "id": "sonic-norman",
   "metadata": {},
   "outputs": [],
   "source": [
    "np.save(\"D:/Anil/Dataset/gray_mold/lgb_data/k-fold/kf5/feature/y_train.npy\",y_train)"
   ]
  },
  {
   "cell_type": "code",
   "execution_count": 6,
   "id": "civic-knock",
   "metadata": {},
   "outputs": [
    {
     "name": "stdout",
     "output_type": "stream",
     "text": [
      "Model: \"vgg16\"\n",
      "_________________________________________________________________\n",
      "Layer (type)                 Output Shape              Param #   \n",
      "=================================================================\n",
      "input_1 (InputLayer)         [(None, 512, 512, 3)]     0         \n",
      "_________________________________________________________________\n",
      "block1_conv1 (Conv2D)        (None, 512, 512, 64)      1792      \n",
      "_________________________________________________________________\n",
      "block1_conv2 (Conv2D)        (None, 512, 512, 64)      36928     \n",
      "_________________________________________________________________\n",
      "block1_pool (MaxPooling2D)   (None, 256, 256, 64)      0         \n",
      "_________________________________________________________________\n",
      "block2_conv1 (Conv2D)        (None, 256, 256, 128)     73856     \n",
      "_________________________________________________________________\n",
      "block2_conv2 (Conv2D)        (None, 256, 256, 128)     147584    \n",
      "_________________________________________________________________\n",
      "block2_pool (MaxPooling2D)   (None, 128, 128, 128)     0         \n",
      "_________________________________________________________________\n",
      "block3_conv1 (Conv2D)        (None, 128, 128, 256)     295168    \n",
      "_________________________________________________________________\n",
      "block3_conv2 (Conv2D)        (None, 128, 128, 256)     590080    \n",
      "_________________________________________________________________\n",
      "block3_conv3 (Conv2D)        (None, 128, 128, 256)     590080    \n",
      "_________________________________________________________________\n",
      "block3_pool (MaxPooling2D)   (None, 64, 64, 256)       0         \n",
      "_________________________________________________________________\n",
      "block4_conv1 (Conv2D)        (None, 64, 64, 512)       1180160   \n",
      "_________________________________________________________________\n",
      "block4_conv2 (Conv2D)        (None, 64, 64, 512)       2359808   \n",
      "_________________________________________________________________\n",
      "block4_conv3 (Conv2D)        (None, 64, 64, 512)       2359808   \n",
      "_________________________________________________________________\n",
      "block4_pool (MaxPooling2D)   (None, 32, 32, 512)       0         \n",
      "_________________________________________________________________\n",
      "block5_conv1 (Conv2D)        (None, 32, 32, 512)       2359808   \n",
      "_________________________________________________________________\n",
      "block5_conv2 (Conv2D)        (None, 32, 32, 512)       2359808   \n",
      "_________________________________________________________________\n",
      "block5_conv3 (Conv2D)        (None, 32, 32, 512)       2359808   \n",
      "_________________________________________________________________\n",
      "block5_pool (MaxPooling2D)   (None, 16, 16, 512)       0         \n",
      "=================================================================\n",
      "Total params: 14,714,688\n",
      "Trainable params: 0\n",
      "Non-trainable params: 14,714,688\n",
      "_________________________________________________________________\n"
     ]
    }
   ],
   "source": [
    "SIZE_X = 512 #Resize images (height  = X, width = Y)\n",
    "SIZE_Y = 512\n",
    "\n",
    "#Load VGG16 model wothout classifier/fully connected layers\n",
    "#Load imagenet weights that we are going to use as feature generators\n",
    "VGG_model = VGG16(weights='imagenet', include_top=False, input_shape=(SIZE_X, SIZE_Y, 3))\n",
    "\n",
    "#Make loaded layers as non-trainable. This is important as we want to work with pre-trained weights\n",
    "for layer in VGG_model.layers:\n",
    "    layer.trainable = False\n",
    "    \n",
    "VGG_model.summary()  #Trainable parameters will be 0"
   ]
  },
  {
   "cell_type": "code",
   "execution_count": 7,
   "id": "dynamic-absence",
   "metadata": {},
   "outputs": [
    {
     "name": "stdout",
     "output_type": "stream",
     "text": [
      "Model: \"model\"\n",
      "_________________________________________________________________\n",
      "Layer (type)                 Output Shape              Param #   \n",
      "=================================================================\n",
      "input_1 (InputLayer)         [(None, 512, 512, 3)]     0         \n",
      "_________________________________________________________________\n",
      "block1_conv1 (Conv2D)        (None, 512, 512, 64)      1792      \n",
      "_________________________________________________________________\n",
      "block1_conv2 (Conv2D)        (None, 512, 512, 64)      36928     \n",
      "=================================================================\n",
      "Total params: 38,720\n",
      "Trainable params: 0\n",
      "Non-trainable params: 38,720\n",
      "_________________________________________________________________\n"
     ]
    }
   ],
   "source": [
    "#After the first 2 convolutional layers the image dimension changes. \n",
    "#So for easy comparison to Y (labels) let us only take first 2 conv layers\n",
    "#and create a new model to extract features\n",
    "#New model with only first 2 conv layers\n",
    "new_model = Model(inputs=VGG_model.input, outputs=VGG_model.get_layer('block1_conv2').output)\n",
    "new_model.summary()\n"
   ]
  },
  {
   "cell_type": "code",
   "execution_count": 53,
   "id": "victorian-associate",
   "metadata": {},
   "outputs": [
    {
     "data": {
      "text/plain": [
       "(30, 512, 512, 3)"
      ]
     },
     "execution_count": 53,
     "metadata": {},
     "output_type": "execute_result"
    }
   ],
   "source": [
    "new_x_train = np.array_split(X_train,3)\n",
    "new_x_train[0].shape"
   ]
  },
  {
   "cell_type": "code",
   "execution_count": 54,
   "id": "educated-comparative",
   "metadata": {},
   "outputs": [],
   "source": [
    "for i in range (len(new_x_train)):\n",
    "    features=new_model.predict(new_x_train[i])\n",
    "    feature_dir = os.path.join(file_dir, 'feature')\n",
    "    if not os.path.exists(feature_dir):\n",
    "        os.makedirs(feature_dir)\n",
    "    feature_file = os.path.join(feature_dir,'feature'+str(i)+'.npy')\n",
    "    np.save(feature_file,features)\n"
   ]
  },
  {
   "cell_type": "code",
   "execution_count": 55,
   "id": "measured-opera",
   "metadata": {},
   "outputs": [
    {
     "data": {
      "text/plain": [
       "(90, 512, 512, 64)"
      ]
     },
     "execution_count": 55,
     "metadata": {},
     "output_type": "execute_result"
    }
   ],
   "source": [
    "feat1 = np.load(\"D:/Anil/Dataset/gray_mold/lgb_data/k-fold/kf5/feature/feature0.npy\")\n",
    "feat2 = np.load(\"D:/Anil/Dataset/gray_mold/lgb_data/k-fold/kf5/feature/feature1.npy\")\n",
    "feat3 = np.load(\"D:/Anil/Dataset/gray_mold/lgb_data/k-fold/kf5/feature/feature2.npy\")\n",
    "X = np.concatenate((feat1,feat2,feat3),axis=0)\n",
    "X.shape"
   ]
  },
  {
   "cell_type": "code",
   "execution_count": 56,
   "id": "collect-peace",
   "metadata": {},
   "outputs": [
    {
     "data": {
      "image/png": "[encoded data removed]",
      "text/plain": [
       "<Figure size 432x288 with 64 Axes>"
      ]
     },
     "metadata": {},
     "output_type": "display_data"
    }
   ],
   "source": [
    "#Plot features to view them\n",
    "square = 8\n",
    "ix=1\n",
    "for _ in range(square):\n",
    "    for _ in range(square):\n",
    "        ax = plt.subplot(square, square, ix)\n",
    "        ax.set_xticks([])\n",
    "        ax.set_yticks([])\n",
    "        plt.imshow(X[1,:,:,ix-1], cmap='gray')\n",
    "        ix +=1\n",
    "plt.show()\n"
   ]
  },
  {
   "cell_type": "code",
   "execution_count": 57,
   "id": "suited-convergence",
   "metadata": {},
   "outputs": [],
   "source": [
    "X = X.reshape(-1, X.shape[3])  #Make it compatible for Random Forest and match Y labels\n",
    "\n",
    "#Reshape Y to match X\n",
    "Y = y_train.reshape(-1)\n"
   ]
  },
  {
   "cell_type": "code",
   "execution_count": 58,
   "id": "assisted-astrology",
   "metadata": {},
   "outputs": [
    {
     "data": {
      "text/html": [
       "<div>\n",
       "<style scoped>\n",
       "    .dataframe tbody tr th:only-of-type {\n",
       "        vertical-align: middle;\n",
       "    }\n",
       "\n",
       "    .dataframe tbody tr th {\n",
       "        vertical-align: top;\n",
       "    }\n",
       "\n",
       "    .dataframe thead th {\n",
       "        text-align: right;\n",
       "    }\n",
       "</style>\n",
       "<table border=\"1\" class=\"dataframe\">\n",
       "  <thead>\n",
       "    <tr style=\"text-align: right;\">\n",
       "      <th></th>\n",
       "      <th>0</th>\n",
       "      <th>1</th>\n",
       "      <th>2</th>\n",
       "      <th>3</th>\n",
       "      <th>4</th>\n",
       "      <th>5</th>\n",
       "      <th>6</th>\n",
       "      <th>7</th>\n",
       "      <th>8</th>\n",
       "      <th>9</th>\n",
       "      <th>...</th>\n",
       "      <th>54</th>\n",
       "      <th>55</th>\n",
       "      <th>56</th>\n",
       "      <th>57</th>\n",
       "      <th>58</th>\n",
       "      <th>59</th>\n",
       "      <th>60</th>\n",
       "      <th>61</th>\n",
       "      <th>62</th>\n",
       "      <th>63</th>\n",
       "    </tr>\n",
       "  </thead>\n",
       "  <tbody>\n",
       "    <tr>\n",
       "      <th>0</th>\n",
       "      <td>0.000000</td>\n",
       "      <td>0.0</td>\n",
       "      <td>0.649344</td>\n",
       "      <td>0.942782</td>\n",
       "      <td>4.632154</td>\n",
       "      <td>0.0</td>\n",
       "      <td>0.337238</td>\n",
       "      <td>0.049251</td>\n",
       "      <td>0.0</td>\n",
       "      <td>1.053239</td>\n",
       "      <td>...</td>\n",
       "      <td>0.03788</td>\n",
       "      <td>0.898025</td>\n",
       "      <td>1.449590</td>\n",
       "      <td>0.258110</td>\n",
       "      <td>0.000000</td>\n",
       "      <td>1.080628</td>\n",
       "      <td>2.011198</td>\n",
       "      <td>0.640442</td>\n",
       "      <td>0.298698</td>\n",
       "      <td>1.533249</td>\n",
       "    </tr>\n",
       "    <tr>\n",
       "      <th>1</th>\n",
       "      <td>0.389087</td>\n",
       "      <td>0.0</td>\n",
       "      <td>0.952366</td>\n",
       "      <td>1.431777</td>\n",
       "      <td>6.962410</td>\n",
       "      <td>0.0</td>\n",
       "      <td>0.000000</td>\n",
       "      <td>0.131221</td>\n",
       "      <td>0.0</td>\n",
       "      <td>1.404921</td>\n",
       "      <td>...</td>\n",
       "      <td>0.00000</td>\n",
       "      <td>2.003761</td>\n",
       "      <td>2.884965</td>\n",
       "      <td>0.222496</td>\n",
       "      <td>0.423538</td>\n",
       "      <td>1.661503</td>\n",
       "      <td>2.963066</td>\n",
       "      <td>1.372328</td>\n",
       "      <td>0.817445</td>\n",
       "      <td>1.891306</td>\n",
       "    </tr>\n",
       "    <tr>\n",
       "      <th>2</th>\n",
       "      <td>0.389087</td>\n",
       "      <td>0.0</td>\n",
       "      <td>0.952366</td>\n",
       "      <td>1.431777</td>\n",
       "      <td>6.962410</td>\n",
       "      <td>0.0</td>\n",
       "      <td>0.000000</td>\n",
       "      <td>0.131221</td>\n",
       "      <td>0.0</td>\n",
       "      <td>1.404921</td>\n",
       "      <td>...</td>\n",
       "      <td>0.00000</td>\n",
       "      <td>2.003761</td>\n",
       "      <td>2.884965</td>\n",
       "      <td>0.222496</td>\n",
       "      <td>0.423538</td>\n",
       "      <td>1.661503</td>\n",
       "      <td>2.963066</td>\n",
       "      <td>1.372328</td>\n",
       "      <td>0.817445</td>\n",
       "      <td>1.891306</td>\n",
       "    </tr>\n",
       "    <tr>\n",
       "      <th>3</th>\n",
       "      <td>0.389087</td>\n",
       "      <td>0.0</td>\n",
       "      <td>0.952366</td>\n",
       "      <td>1.431777</td>\n",
       "      <td>6.962410</td>\n",
       "      <td>0.0</td>\n",
       "      <td>0.000000</td>\n",
       "      <td>0.131221</td>\n",
       "      <td>0.0</td>\n",
       "      <td>1.404921</td>\n",
       "      <td>...</td>\n",
       "      <td>0.00000</td>\n",
       "      <td>2.003761</td>\n",
       "      <td>2.884965</td>\n",
       "      <td>0.222496</td>\n",
       "      <td>0.423538</td>\n",
       "      <td>1.661503</td>\n",
       "      <td>2.963066</td>\n",
       "      <td>1.372328</td>\n",
       "      <td>0.817445</td>\n",
       "      <td>1.891306</td>\n",
       "    </tr>\n",
       "    <tr>\n",
       "      <th>4</th>\n",
       "      <td>0.389087</td>\n",
       "      <td>0.0</td>\n",
       "      <td>0.952366</td>\n",
       "      <td>1.431777</td>\n",
       "      <td>6.962410</td>\n",
       "      <td>0.0</td>\n",
       "      <td>0.000000</td>\n",
       "      <td>0.131221</td>\n",
       "      <td>0.0</td>\n",
       "      <td>1.404921</td>\n",
       "      <td>...</td>\n",
       "      <td>0.00000</td>\n",
       "      <td>2.003761</td>\n",
       "      <td>2.884965</td>\n",
       "      <td>0.222496</td>\n",
       "      <td>0.423538</td>\n",
       "      <td>1.661503</td>\n",
       "      <td>2.963066</td>\n",
       "      <td>1.372328</td>\n",
       "      <td>0.817445</td>\n",
       "      <td>1.891306</td>\n",
       "    </tr>\n",
       "  </tbody>\n",
       "</table>\n",
       "<p>5 rows × 64 columns</p>\n",
       "</div>"
      ],
      "text/plain": [
       "         0    1         2         3         4    5         6         7    8   \\\n",
       "0  0.000000  0.0  0.649344  0.942782  4.632154  0.0  0.337238  0.049251  0.0   \n",
       "1  0.389087  0.0  0.952366  1.431777  6.962410  0.0  0.000000  0.131221  0.0   \n",
       "2  0.389087  0.0  0.952366  1.431777  6.962410  0.0  0.000000  0.131221  0.0   \n",
       "3  0.389087  0.0  0.952366  1.431777  6.962410  0.0  0.000000  0.131221  0.0   \n",
       "4  0.389087  0.0  0.952366  1.431777  6.962410  0.0  0.000000  0.131221  0.0   \n",
       "\n",
       "         9   ...       54        55        56        57        58        59  \\\n",
       "0  1.053239  ...  0.03788  0.898025  1.449590  0.258110  0.000000  1.080628   \n",
       "1  1.404921  ...  0.00000  2.003761  2.884965  0.222496  0.423538  1.661503   \n",
       "2  1.404921  ...  0.00000  2.003761  2.884965  0.222496  0.423538  1.661503   \n",
       "3  1.404921  ...  0.00000  2.003761  2.884965  0.222496  0.423538  1.661503   \n",
       "4  1.404921  ...  0.00000  2.003761  2.884965  0.222496  0.423538  1.661503   \n",
       "\n",
       "         60        61        62        63  \n",
       "0  2.011198  0.640442  0.298698  1.533249  \n",
       "1  2.963066  1.372328  0.817445  1.891306  \n",
       "2  2.963066  1.372328  0.817445  1.891306  \n",
       "3  2.963066  1.372328  0.817445  1.891306  \n",
       "4  2.963066  1.372328  0.817445  1.891306  \n",
       "\n",
       "[5 rows x 64 columns]"
      ]
     },
     "execution_count": 58,
     "metadata": {},
     "output_type": "execute_result"
    }
   ],
   "source": [
    "#Combine X and Y into a dataframe to make it easy to drop all rows with Y values 0\n",
    "#In our labels Y values 0 = unlabeled pixels. \n",
    "dataset = pd.DataFrame(X)\n",
    "dataset.head(5)\n"
   ]
  },
  {
   "cell_type": "code",
   "execution_count": 59,
   "id": "antique-dinner",
   "metadata": {},
   "outputs": [],
   "source": [
    "# normalizing features\n",
    "from sklearn.preprocessing import MinMaxScaler\n",
    "mc = MinMaxScaler()\n",
    "dataset = mc.fit_transform(dataset)\n",
    "dataset = pd.DataFrame(dataset)\n"
   ]
  },
  {
   "cell_type": "code",
   "execution_count": 60,
   "id": "treated-trauma",
   "metadata": {},
   "outputs": [
    {
     "name": "stdout",
     "output_type": "stream",
     "text": [
      "[  0 255]\n",
      "0      22764707\n",
      "255      828253\n",
      "Name: Label, dtype: int64\n"
     ]
    },
    {
     "data": {
      "text/html": [
       "<div>\n",
       "<style scoped>\n",
       "    .dataframe tbody tr th:only-of-type {\n",
       "        vertical-align: middle;\n",
       "    }\n",
       "\n",
       "    .dataframe tbody tr th {\n",
       "        vertical-align: top;\n",
       "    }\n",
       "\n",
       "    .dataframe thead th {\n",
       "        text-align: right;\n",
       "    }\n",
       "</style>\n",
       "<table border=\"1\" class=\"dataframe\">\n",
       "  <thead>\n",
       "    <tr style=\"text-align: right;\">\n",
       "      <th></th>\n",
       "      <th>0</th>\n",
       "      <th>1</th>\n",
       "      <th>2</th>\n",
       "      <th>3</th>\n",
       "      <th>4</th>\n",
       "      <th>5</th>\n",
       "      <th>6</th>\n",
       "      <th>7</th>\n",
       "      <th>8</th>\n",
       "      <th>9</th>\n",
       "      <th>...</th>\n",
       "      <th>55</th>\n",
       "      <th>56</th>\n",
       "      <th>57</th>\n",
       "      <th>58</th>\n",
       "      <th>59</th>\n",
       "      <th>60</th>\n",
       "      <th>61</th>\n",
       "      <th>62</th>\n",
       "      <th>63</th>\n",
       "      <th>Label</th>\n",
       "    </tr>\n",
       "  </thead>\n",
       "  <tbody>\n",
       "    <tr>\n",
       "      <th>0</th>\n",
       "      <td>0.000000</td>\n",
       "      <td>0.0</td>\n",
       "      <td>0.000830</td>\n",
       "      <td>0.000671</td>\n",
       "      <td>0.002051</td>\n",
       "      <td>0.0</td>\n",
       "      <td>0.00013</td>\n",
       "      <td>0.000041</td>\n",
       "      <td>0.0</td>\n",
       "      <td>0.001130</td>\n",
       "      <td>...</td>\n",
       "      <td>0.000353</td>\n",
       "      <td>0.000631</td>\n",
       "      <td>0.000148</td>\n",
       "      <td>0.00000</td>\n",
       "      <td>0.000474</td>\n",
       "      <td>0.001667</td>\n",
       "      <td>0.000707</td>\n",
       "      <td>0.000114</td>\n",
       "      <td>0.000894</td>\n",
       "      <td>0</td>\n",
       "    </tr>\n",
       "    <tr>\n",
       "      <th>1</th>\n",
       "      <td>0.000154</td>\n",
       "      <td>0.0</td>\n",
       "      <td>0.001217</td>\n",
       "      <td>0.001019</td>\n",
       "      <td>0.003083</td>\n",
       "      <td>0.0</td>\n",
       "      <td>0.00000</td>\n",
       "      <td>0.000110</td>\n",
       "      <td>0.0</td>\n",
       "      <td>0.001507</td>\n",
       "      <td>...</td>\n",
       "      <td>0.000787</td>\n",
       "      <td>0.001255</td>\n",
       "      <td>0.000127</td>\n",
       "      <td>0.00015</td>\n",
       "      <td>0.000729</td>\n",
       "      <td>0.002456</td>\n",
       "      <td>0.001515</td>\n",
       "      <td>0.000312</td>\n",
       "      <td>0.001103</td>\n",
       "      <td>0</td>\n",
       "    </tr>\n",
       "    <tr>\n",
       "      <th>2</th>\n",
       "      <td>0.000154</td>\n",
       "      <td>0.0</td>\n",
       "      <td>0.001217</td>\n",
       "      <td>0.001019</td>\n",
       "      <td>0.003083</td>\n",
       "      <td>0.0</td>\n",
       "      <td>0.00000</td>\n",
       "      <td>0.000110</td>\n",
       "      <td>0.0</td>\n",
       "      <td>0.001507</td>\n",
       "      <td>...</td>\n",
       "      <td>0.000787</td>\n",
       "      <td>0.001255</td>\n",
       "      <td>0.000127</td>\n",
       "      <td>0.00015</td>\n",
       "      <td>0.000729</td>\n",
       "      <td>0.002456</td>\n",
       "      <td>0.001515</td>\n",
       "      <td>0.000312</td>\n",
       "      <td>0.001103</td>\n",
       "      <td>0</td>\n",
       "    </tr>\n",
       "    <tr>\n",
       "      <th>3</th>\n",
       "      <td>0.000154</td>\n",
       "      <td>0.0</td>\n",
       "      <td>0.001217</td>\n",
       "      <td>0.001019</td>\n",
       "      <td>0.003083</td>\n",
       "      <td>0.0</td>\n",
       "      <td>0.00000</td>\n",
       "      <td>0.000110</td>\n",
       "      <td>0.0</td>\n",
       "      <td>0.001507</td>\n",
       "      <td>...</td>\n",
       "      <td>0.000787</td>\n",
       "      <td>0.001255</td>\n",
       "      <td>0.000127</td>\n",
       "      <td>0.00015</td>\n",
       "      <td>0.000729</td>\n",
       "      <td>0.002456</td>\n",
       "      <td>0.001515</td>\n",
       "      <td>0.000312</td>\n",
       "      <td>0.001103</td>\n",
       "      <td>0</td>\n",
       "    </tr>\n",
       "    <tr>\n",
       "      <th>4</th>\n",
       "      <td>0.000154</td>\n",
       "      <td>0.0</td>\n",
       "      <td>0.001217</td>\n",
       "      <td>0.001019</td>\n",
       "      <td>0.003083</td>\n",
       "      <td>0.0</td>\n",
       "      <td>0.00000</td>\n",
       "      <td>0.000110</td>\n",
       "      <td>0.0</td>\n",
       "      <td>0.001507</td>\n",
       "      <td>...</td>\n",
       "      <td>0.000787</td>\n",
       "      <td>0.001255</td>\n",
       "      <td>0.000127</td>\n",
       "      <td>0.00015</td>\n",
       "      <td>0.000729</td>\n",
       "      <td>0.002456</td>\n",
       "      <td>0.001515</td>\n",
       "      <td>0.000312</td>\n",
       "      <td>0.001103</td>\n",
       "      <td>0</td>\n",
       "    </tr>\n",
       "  </tbody>\n",
       "</table>\n",
       "<p>5 rows × 65 columns</p>\n",
       "</div>"
      ],
      "text/plain": [
       "          0    1         2         3         4    5        6         7    8  \\\n",
       "0  0.000000  0.0  0.000830  0.000671  0.002051  0.0  0.00013  0.000041  0.0   \n",
       "1  0.000154  0.0  0.001217  0.001019  0.003083  0.0  0.00000  0.000110  0.0   \n",
       "2  0.000154  0.0  0.001217  0.001019  0.003083  0.0  0.00000  0.000110  0.0   \n",
       "3  0.000154  0.0  0.001217  0.001019  0.003083  0.0  0.00000  0.000110  0.0   \n",
       "4  0.000154  0.0  0.001217  0.001019  0.003083  0.0  0.00000  0.000110  0.0   \n",
       "\n",
       "          9  ...        55        56        57       58        59        60  \\\n",
       "0  0.001130  ...  0.000353  0.000631  0.000148  0.00000  0.000474  0.001667   \n",
       "1  0.001507  ...  0.000787  0.001255  0.000127  0.00015  0.000729  0.002456   \n",
       "2  0.001507  ...  0.000787  0.001255  0.000127  0.00015  0.000729  0.002456   \n",
       "3  0.001507  ...  0.000787  0.001255  0.000127  0.00015  0.000729  0.002456   \n",
       "4  0.001507  ...  0.000787  0.001255  0.000127  0.00015  0.000729  0.002456   \n",
       "\n",
       "         61        62        63  Label  \n",
       "0  0.000707  0.000114  0.000894      0  \n",
       "1  0.001515  0.000312  0.001103      0  \n",
       "2  0.001515  0.000312  0.001103      0  \n",
       "3  0.001515  0.000312  0.001103      0  \n",
       "4  0.001515  0.000312  0.001103      0  \n",
       "\n",
       "[5 rows x 65 columns]"
      ]
     },
     "execution_count": 60,
     "metadata": {},
     "output_type": "execute_result"
    }
   ],
   "source": [
    "# adding training y\n",
    "dataset['Label'] = Y\n",
    "print(dataset['Label'].unique())\n",
    "print(dataset['Label'].value_counts())\n",
    "dataset.head()\n"
   ]
  },
  {
   "cell_type": "code",
   "execution_count": 61,
   "id": "civil-emperor",
   "metadata": {},
   "outputs": [],
   "source": [
    "#Redefine X and Y \n",
    "x = dataset.drop(labels = ['Label'], axis=1)\n",
    "x = x.values  #Convert to array\n",
    "y = dataset['Label']\n",
    "y = y.values  #Convert to array\n"
   ]
  },
  {
   "cell_type": "code",
   "execution_count": null,
   "id": "deluxe-siemens",
   "metadata": {},
   "outputs": [],
   "source": [
    "########################\n",
    "#Load validation image and prepare it for prediction\n",
    "# validation_img = cv2.imread('images/test_images/test1_img.tif', cv2.IMREAD_COLOR)       \n",
    "# validation_img = cv2.resize(validation_img, (SIZE_Y, SIZE_X))\n",
    "# validation_img = cv2.cvtColor(validation_img, cv2.COLOR_RGB2BGR)\n",
    "# validation_img = np.expand_dims(validation_img, axis=0)\n",
    "#Capture validation image info as a list\n",
    "val_images = []\n",
    "\n",
    "for img_path in glob.glob(os.path.join(file_dir,\"test\", \"*.png\")):\n",
    "    img = cv2.imread(img_path, cv2.IMREAD_COLOR)       \n",
    "    img = cv2.resize(img, (SIZE_Y, SIZE_X))\n",
    "    img = cv2.cvtColor(img, cv2.COLOR_RGB2BGR)\n",
    "    val_images.append(img)\n",
    "    #train_labels.append(label)\n",
    "    \n",
    "#Convert list to array for machine learning processing        \n",
    "val_images = np.array(val_images)\n",
    "\n"
   ]
  },
  {
   "cell_type": "code",
   "execution_count": null,
   "id": "worse-python",
   "metadata": {},
   "outputs": [],
   "source": [
    "X_validation_feature = new_model.predict(val_images)\n",
    "X_validation_feature = X_validation_feature.reshape(-1, X_validation_feature.shape[3])\n"
   ]
  },
  {
   "cell_type": "code",
   "execution_count": null,
   "id": "tender-commonwealth",
   "metadata": {},
   "outputs": [],
   "source": [
    "np.save(\"D:/Anil/Dataset/gray_mold/lgb_data/k-fold/kf1/features/val_features.npy\",X_validation_feature)"
   ]
  },
  {
   "cell_type": "code",
   "execution_count": null,
   "id": "collect-brick",
   "metadata": {},
   "outputs": [],
   "source": [
    "#Load corresponding ground truth image (Mask) and reshape it for comparison with prediction\n",
    "truth = []\n",
    "\n",
    "for mask_path in glob.glob(os.path.join(file_dir,\"test/imgAno\", \"*.png\")):\n",
    "    mask = cv2.imread(mask_path, 0)       \n",
    "    mask = cv2.resize(mask, (SIZE_Y, SIZE_X))\n",
    "    #mask = cv2.cvtColor(mask, cv2.COLOR_RGB2BGR)\n",
    "    truth.append(mask)\n",
    "    #train_labels.append(label)\n",
    "    \n",
    "#Convert list to array for machine learning processing          \n",
    "truth = np.array(truth) \n",
    "truth.reshape(-1)\n",
    "truth.shape"
   ]
  },
  {
   "cell_type": "code",
   "execution_count": 62,
   "id": "complimentary-translation",
   "metadata": {
    "scrolled": true
   },
   "outputs": [
    {
     "name": "stderr",
     "output_type": "stream",
     "text": [
      "C:\\Users\\USER\\.conda\\envs\\tf_gpu\\lib\\site-packages\\xgboost\\sklearn.py:1146: UserWarning: The use of label encoder in XGBClassifier is deprecated and will be removed in a future release. To remove this warning, do the following: 1) Pass option use_label_encoder=False when constructing XGBClassifier object; and 2) Encode your labels (y) as integers starting with 0, i.e. 0, 1, 2, ..., [num_class - 1].\n",
      "  warnings.warn(label_encoder_deprecation_msg, UserWarning)\n"
     ]
    },
    {
     "name": "stdout",
     "output_type": "stream",
     "text": [
      "[14:45:33] WARNING: C:/Users/Administrator/workspace/xgboost-win64_release_1.4.0/src/learner.cc:1095: Starting in XGBoost 1.3.0, the default evaluation metric used with the objective 'binary:logistic' was changed from 'error' to 'logloss'. Explicitly set eval_metric if you'd like to restore the old behavior.\n",
      "XGBoost execution time is:  0:46:44.373406\n"
     ]
    }
   ],
   "source": [
    "xgb_model = xgb.XGBClassifier()\n",
    "\n",
    "# Y_for_training = Y_for_training-1 \n",
    "\n",
    "start = datetime.now() \n",
    "# Train the model on training data\n",
    "xgb_model.fit(x, y) \n",
    "stop = datetime.now()\n",
    "\n",
    "#Execution time of the model \n",
    "execution_time_xgb = stop-start \n",
    "print(\"XGBoost execution time is: \", execution_time_xgb)\n"
   ]
  },
  {
   "cell_type": "code",
   "execution_count": 63,
   "id": "least-polyester",
   "metadata": {},
   "outputs": [],
   "source": [
    "#Save model for future use\n",
    "filename = 'D:/Anil/Dataset/gray_mold/lgb_data/k-fold/kf5/model_XG.sav'\n",
    "pickle.dump(xgb_model, open(filename, 'wb'))\n",
    "\n",
    "filename_json = 'D:/Anil/Dataset/gray_mold/lgb_data/k-fold/kf5/model_XG.json'\n",
    "xgb_model.save_model(filename_json)\n"
   ]
  },
  {
   "cell_type": "code",
   "execution_count": null,
   "id": "overhead-criterion",
   "metadata": {},
   "outputs": [],
   "source": [
    "# Load xgb model\n",
    "xgb_model = xgb.XGBClassifier()\n",
    "\n",
    "filename = 'D:/Anil/Dataset/gray_mold/lgb_data/k-fold/kf1/model_XG.sav'\n",
    "\n",
    "xgb_model = pickle.load(open(filename, \"rb\"))"
   ]
  },
  {
   "cell_type": "code",
   "execution_count": 27,
   "id": "mathematical-retail",
   "metadata": {},
   "outputs": [],
   "source": [
    "#Load validation image and prepare it for prediction\n",
    "validation_img = cv2.imread('D:/Anil/Dataset/gray_mold/val/val_img_0.png', cv2.IMREAD_COLOR)       \n",
    "validation_img = cv2.resize(validation_img, (SIZE_Y, SIZE_X))\n",
    "validation_img = cv2.cvtColor(validation_img, cv2.COLOR_RGB2BGR)\n",
    "val_img = validation_img\n",
    "validation_img = np.expand_dims(validation_img, axis=0)\n"
   ]
  },
  {
   "cell_type": "code",
   "execution_count": 28,
   "id": "tracked-block",
   "metadata": {},
   "outputs": [
    {
     "data": {
      "text/plain": [
       "(262144, 64)"
      ]
     },
     "execution_count": 28,
     "metadata": {},
     "output_type": "execute_result"
    }
   ],
   "source": [
    "X_validation_feature = new_model.predict(validation_img)\n",
    "\n",
    "X_validation_feature = X_validation_feature.reshape(-1, X_validation_feature.shape[3])\n",
    "X_validation_feature.shape\n"
   ]
  },
  {
   "cell_type": "code",
   "execution_count": 29,
   "id": "relevant-recorder",
   "metadata": {},
   "outputs": [
    {
     "data": {
      "text/plain": [
       "(262144,)"
      ]
     },
     "execution_count": 29,
     "metadata": {},
     "output_type": "execute_result"
    }
   ],
   "source": [
    "#Load corresponding ground truth image (Mask) and reshape it for comparison with prediction\n",
    "truth = cv2.imread('D:/Anil/Dataset/gray_mold/lgb_data/k-fold/kf1/test/imgAno/img_26.png', 0)\n",
    "truth[truth > 0] = 255\n",
    "GT = truth.reshape(-1)\n",
    "GT.shape"
   ]
  },
  {
   "cell_type": "code",
   "execution_count": 30,
   "id": "fifty-orleans",
   "metadata": {},
   "outputs": [],
   "source": [
    "# normalizing test data\n",
    "# normalizing features\n",
    "from sklearn.preprocessing import MinMaxScaler\n",
    "mc = MinMaxScaler()\n",
    "\n",
    "X_validation_feature = mc.fit_transform(X_validation_feature)\n"
   ]
  },
  {
   "cell_type": "code",
   "execution_count": 34,
   "id": "documented-mouth",
   "metadata": {},
   "outputs": [
    {
     "data": {
      "text/plain": [
       "(262144, 64)"
      ]
     },
     "execution_count": 34,
     "metadata": {},
     "output_type": "execute_result"
    }
   ],
   "source": [
    "X_validation_feature.shape"
   ]
  },
  {
   "cell_type": "code",
   "execution_count": 31,
   "id": "cross-bones",
   "metadata": {},
   "outputs": [],
   "source": [
    "prediction_xgb = xgb_model.predict(X_validation_feature)\n"
   ]
  },
  {
   "cell_type": "code",
   "execution_count": 32,
   "id": "provincial-twenty",
   "metadata": {},
   "outputs": [
    {
     "data": {
      "text/plain": [
       "(512, 512)"
      ]
     },
     "execution_count": 32,
     "metadata": {},
     "output_type": "execute_result"
    }
   ],
   "source": [
    "predict_img = prediction_xgb.reshape((512,512))\n",
    "predict_img.shape"
   ]
  },
  {
   "cell_type": "code",
   "execution_count": 33,
   "id": "chubby-election",
   "metadata": {
    "scrolled": true
   },
   "outputs": [
    {
     "data": {
      "image/png": "[encoded data removed]",
      "text/plain": [
       "<Figure size 432x288 with 1 Axes>"
      ]
     },
     "metadata": {
      "needs_background": "light"
     },
     "output_type": "display_data"
    }
   ],
   "source": [
    "plt.imshow(predict_img,cmap = 'gray')\n",
    "plt.show()"
   ]
  },
  {
   "cell_type": "code",
   "execution_count": null,
   "id": "contemporary-remainder",
   "metadata": {},
   "outputs": [],
   "source": [
    "pred_path = 'D:/Anil/Dataset/gray_mold/pred_test3.jpg'\n",
    "cv2.imwrite(pred_path,predict_img)\n"
   ]
  },
  {
   "cell_type": "code",
   "execution_count": null,
   "id": "hollywood-revision",
   "metadata": {},
   "outputs": [],
   "source": [
    "plt.imshow(truth,cmap='gray')\n",
    "plt.show()\n"
   ]
  },
  {
   "cell_type": "code",
   "execution_count": null,
   "id": "parliamentary-twins",
   "metadata": {
    "scrolled": true
   },
   "outputs": [],
   "source": [
    "#Pixel accuracy - not a good metric for semantic segmentation\n",
    "#Print overall accuracy\n",
    "\n",
    "print (\"Accuracy = \", metrics.accuracy_score(GT, prediction_xgb))\n"
   ]
  },
  {
   "cell_type": "code",
   "execution_count": null,
   "id": "expected-wages",
   "metadata": {},
   "outputs": [],
   "source": [
    "from tensorflow.keras.metrics import MeanIoU\n",
    "num_classes = 2\n",
    "iou = MeanIoU(num_classes=num_classes)\n",
    "iou.update_state(GT/255,prediction_xgb/255)\n",
    "iou.result().numpy()\n"
   ]
  },
  {
   "cell_type": "code",
   "execution_count": null,
   "id": "bulgarian-people",
   "metadata": {},
   "outputs": [],
   "source": [
    "np.unique(prediction_xgb)"
   ]
  },
  {
   "cell_type": "code",
   "execution_count": null,
   "id": "cosmetic-headline",
   "metadata": {},
   "outputs": [],
   "source": [
    "plt.imshow(predict_img, cmap='gray')"
   ]
  },
  {
   "cell_type": "code",
   "execution_count": null,
   "id": "average-corps",
   "metadata": {},
   "outputs": [],
   "source": [
    "plt.imshow(val_img)"
   ]
  },
  {
   "cell_type": "code",
   "execution_count": null,
   "id": "blond-annual",
   "metadata": {},
   "outputs": [],
   "source": [
    "# IoU accuracy calculation\n",
    "from keras import backend as K\n",
    "\n",
    "def iou_coef(y_true, y_pred, smooth=1):\n",
    "#     intersection = K.sum(K.abs(y_true * y_pred), axis=[1,2,3]) # this is for model training\n",
    "#     union = K.sum(y_true,[1,2,3])+K.sum(y_pred,[1,2,3])-intersection\n",
    "#     intersection = K.sum(K.abs(y_true * y_pred), axis=[1,2,3]) # this is for model training\n",
    "#     union = K.sum(y_true,[1,2,3])+K.sum(y_pred,[1,2,3])-intersection\n",
    "    intersection = K.sum(K.abs(y_true * y_pred), axis=-1)\n",
    "    union = K.sum(y_true,axis=-1)+K.sum(y_pred,axis=-1)-intersection\n",
    "    iou = K.mean((intersection + smooth) / (union + smooth), axis=0)\n",
    "    return iou"
   ]
  },
  {
   "cell_type": "code",
   "execution_count": null,
   "id": "certain-attendance",
   "metadata": {},
   "outputs": [],
   "source": [
    "# Dice accuracy calculation\n",
    "def dice_coef(y_true, y_pred, smooth=1):\n",
    "#     intersection = K.sum(y_true * y_pred, axis=[1,2,3])\n",
    "#     union = K.sum(y_true, axis=[1,2,3]) + K.sum(y_pred, axis=[1,2,3])\n",
    "    intersection = K.sum(y_true * y_pred, axis=-1)\n",
    "    union = K.sum(y_true, axis=-1) + K.sum(y_pred, axis=-1)\n",
    "    dice = K.mean((2. * intersection + smooth)/(union + smooth), axis=0)\n",
    "    return dice"
   ]
  },
  {
   "cell_type": "code",
   "execution_count": null,
   "id": "qualified-turner",
   "metadata": {},
   "outputs": [],
   "source": [
    "iou = iou_coef(truth_img/255.0,predict_img/255.0)\n",
    "print(iou)"
   ]
  },
  {
   "cell_type": "code",
   "execution_count": null,
   "id": "crazy-acrobat",
   "metadata": {},
   "outputs": [],
   "source": [
    "truth_img = cv2.imread('D:/Anil/Dataset/gray_mold/val/GT/val_img_0.png',0)\n",
    "# truth_img.reshape((1,512,512,1))\n",
    "# truth_img = np.expand_dims(truth_img, axis=0)\n",
    "# truth_img.shape"
   ]
  },
  {
   "cell_type": "code",
   "execution_count": null,
   "id": "polyphonic-broadway",
   "metadata": {},
   "outputs": [],
   "source": [
    "truth_img"
   ]
  },
  {
   "cell_type": "code",
   "execution_count": null,
   "id": "juvenile-engineering",
   "metadata": {},
   "outputs": [],
   "source": [
    "predict_img"
   ]
  },
  {
   "cell_type": "code",
   "execution_count": null,
   "id": "oriental-alcohol",
   "metadata": {},
   "outputs": [],
   "source": [
    "val1 = np.arange(24).reshape((4, 6))\n",
    "y_true = K.variable(value=val1)\n",
    "\n",
    "val2 = np.arange(10,34).reshape((4, 6))\n",
    "y_pred = K.variable(value=val2)"
   ]
  },
  {
   "cell_type": "code",
   "execution_count": null,
   "id": "grand-today",
   "metadata": {},
   "outputs": [],
   "source": [
    "result = K.eval(iou_coef(y_true=truth_img/255.0, y_pred=predict_img/255.0))\n",
    "print('result is:', result)"
   ]
  },
  {
   "cell_type": "code",
   "execution_count": null,
   "id": "geological-surgery",
   "metadata": {},
   "outputs": [],
   "source": [
    "result = K.eval(dice_coef(y_true=truth_img/255.0, y_pred=predict_img/255.0))\n",
    "print('result is:', result)"
   ]
  },
  {
   "cell_type": "code",
   "execution_count": null,
   "id": "operating-eating",
   "metadata": {},
   "outputs": [],
   "source": [
    "# calculating IoU and dice accuracy of trained model\n",
    "file_path = \"D:/Anil/Dataset/gray_mold/val/\"\n",
    "gt_path = \"D:/Anil/Dataset/gray_mold/val/GT/\"\n",
    "val_imgs = []\n",
    "val_gt = []\n",
    "for f in glob.glob(os.path.join(file_path,'*.png')):\n",
    "    img = cv2.imread()\n",
    "    val_imgs.append(f)\n",
    "    \n",
    "# Ground truth image array\n",
    "for f in glob.glob(os.path.join(gt_path,'*.png')):\n",
    "    val_gt.append(f)\n",
    "val_gt[10]"
   ]
  },
  {
   "cell_type": "code",
   "execution_count": null,
   "id": "threaded-sewing",
   "metadata": {},
   "outputs": [],
   "source": []
  },
  {
   "cell_type": "code",
   "execution_count": null,
   "id": "christian-price",
   "metadata": {},
   "outputs": [],
   "source": [
    "#Load validation image and prepare it for prediction\n",
    "validation_img = cv2.imread('D:/Anil/Dataset/gray_mold/val/val_img_0.png', cv2.IMREAD_COLOR)       \n",
    "validation_img = cv2.resize(validation_img, (SIZE_Y, SIZE_X))\n",
    "validation_img = cv2.cvtColor(validation_img, cv2.COLOR_RGB2BGR)\n",
    "val_img = validation_img\n",
    "validation_img = np.expand_dims(validation_img, axis=0)\n"
   ]
  },
  {
   "cell_type": "code",
   "execution_count": null,
   "id": "essential-invasion",
   "metadata": {},
   "outputs": [],
   "source": [
    "X_validation_feature = new_model.predict(validation_img)\n",
    "X_validation_feature = X_validation_feature.reshape(-1, X_validation_feature.shape[3])"
   ]
  },
  {
   "cell_type": "code",
   "execution_count": null,
   "id": "suited-intellectual",
   "metadata": {},
   "outputs": [],
   "source": [
    "# normalizing test data\n",
    "X_validation_feature = mc.fit_transform(X_validation_feature)\n",
    "prediction_xgb = xgb_model.predict(X_validation_feature)\n",
    "predict_img = prediction_xgb.reshape(truth.shape)\n",
    "plt.imshow(predict_img, cmap='gray')\n"
   ]
  },
  {
   "cell_type": "code",
   "execution_count": null,
   "id": "sapphire-debate",
   "metadata": {},
   "outputs": [],
   "source": [
    "#Load corresponding ground truth image (Mask) and reshape it for comparison with prediction\n",
    "truth = cv2.imread('D:/Anil/Dataset/gray_mold/val/GT/val_img_0.png', 0)\n",
    "GT = truth.reshape(-1)\n",
    "\n",
    "#Print overall accuracy\n",
    "\n",
    "print (\"Accuracy = \", metrics.accuracy_score(GT, prediction_xgb))\n"
   ]
  },
  {
   "cell_type": "code",
   "execution_count": null,
   "id": "absolute-banks",
   "metadata": {},
   "outputs": [],
   "source": [
    "num_classes = 2\n",
    "iou = MeanIoU(num_classes=num_classes)\n",
    "iou.update_state(truth_img/255,predict_img/255)\n",
    "iou.result().numpy()\n"
   ]
  },
  {
   "cell_type": "code",
   "execution_count": null,
   "id": "balanced-electric",
   "metadata": {},
   "outputs": [],
   "source": [
    "intersect = np.logical_and(GT,prediction_xgb)\n",
    "union = np.logical_or(GT,prediction_xgb)\n",
    "iou_score = np.sum(intersect)/np.sum(union)\n",
    "print(iou_score)"
   ]
  },
  {
   "cell_type": "code",
   "execution_count": null,
   "id": "perceived-projector",
   "metadata": {},
   "outputs": [],
   "source": []
  },
  {
   "cell_type": "code",
   "execution_count": null,
   "id": "precious-aggregate",
   "metadata": {},
   "outputs": [],
   "source": [
    "from tensorflow.keras.preprocessing import image\n",
    "\n",
    "img_path = \"D:/Anil/Dataset/gray_mold/img_69.PNG\"\n",
    "img = image.load_img(img_path, target_size=(512, 512))\n",
    "img_tensor = image.img_to_array(img)\n",
    "img_tensor = np.expand_dims(img_tensor, axis=0)\n",
    "img_tensor /= 255.\n",
    "plt.imshow(img_tensor[0])\n",
    "plt.show()\n",
    "print(img_tensor.shape)"
   ]
  },
  {
   "cell_type": "code",
   "execution_count": null,
   "id": "special-driving",
   "metadata": {},
   "outputs": [],
   "source": [
    "layer_outputs = [layer.output for layer in VGG_model.layers[:2]] \n",
    "# Extracts the outputs of the top 12 layers\n",
    "activation_model = Model(inputs=VGG_model.input, outputs=layer_outputs) # Creates a model"
   ]
  },
  {
   "cell_type": "code",
   "execution_count": null,
   "id": "buried-painting",
   "metadata": {},
   "outputs": [],
   "source": [
    "activations = activation_model.predict(img_tensor) \n",
    "# Returns a list of five Numpy arrays: one array per layer activation"
   ]
  },
  {
   "cell_type": "code",
   "execution_count": null,
   "id": "unnecessary-guidance",
   "metadata": {},
   "outputs": [],
   "source": [
    "# Visualizing every channel in every intermediate activation\n",
    "layer_names = []\n",
    "for layer in VGG_model.layers[:12]:\n",
    "    layer_names.append(layer.name) # Names of the layers, so you can have them as part of your plot\n",
    "    \n",
    "images_per_row = 16\n",
    "\n",
    "for layer_name, layer_activation in zip(layer_names, activations): # Displays the feature maps\n",
    "    n_features = layer_activation.shape[-1] # Number of features in the feature map\n",
    "    size = layer_activation.shape[1] #The feature map has shape (1, size, size, n_features).\n",
    "    n_cols = n_features // images_per_row # Tiles the activation channels in this matrix\n",
    "    display_grid = np.zeros((size * n_cols, images_per_row * size))\n",
    "    for col in range(n_cols): # Tiles each filter into a big horizontal grid\n",
    "        for row in range(images_per_row):\n",
    "            channel_image = layer_activation[0,\n",
    "                                             :, :,\n",
    "                                             col * images_per_row + row]\n",
    "            channel_image -= channel_image.mean() # Post-processes the feature to make it visually palatable\n",
    "            channel_image /= channel_image.std()\n",
    "            channel_image *= 64\n",
    "            channel_image += 128\n",
    "            channel_image = np.clip(channel_image, 0, 255).astype('uint8')\n",
    "            display_grid[col * size : (col + 1) * size, # Displays the grid\n",
    "                         row * size : (row + 1) * size] = channel_image\n",
    "    scale = 1. / size\n",
    "    plt.figure(figsize=(scale * display_grid.shape[1],\n",
    "                        scale * display_grid.shape[0]))\n",
    "    plt.title(layer_name)\n",
    "    plt.grid(False)\n",
    "    plt.imshow(display_grid, aspect='auto', cmap='viridis')"
   ]
  },
  {
   "cell_type": "code",
   "execution_count": null,
   "id": "broken-knock",
   "metadata": {},
   "outputs": [],
   "source": []
  }
 ],
 "metadata": {
  "kernelspec": {
   "display_name": "Python 3",
   "language": "python",
   "name": "python3"
  },
  "language_info": {
   "codemirror_mode": {
    "name": "ipython",
    "version": 3
   },
   "file_extension": ".py",
   "mimetype": "text/x-python",
   "name": "python",
   "nbconvert_exporter": "python",
   "pygments_lexer": "ipython3",
   "version": "3.7.10"
  }
 },
 "nbformat": 4,
 "nbformat_minor": 5
}
