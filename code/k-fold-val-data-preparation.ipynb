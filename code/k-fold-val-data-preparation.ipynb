{
 "cells": [
  {
   "cell_type": "code",
   "execution_count": null,
   "id": "emotional-manufacturer",
   "metadata": {},
   "outputs": [],
   "source": [
    "import os\n",
    "import shutil\n",
    "import pandas as pd\n",
    "import numpy as np\n",
    "from sklearn.model_selection import KFold\n"
   ]
  },
  {
   "cell_type": "code",
   "execution_count": null,
   "id": "becoming-fortune",
   "metadata": {},
   "outputs": [],
   "source": [
    "data_path = 'D:/Anil/Dataset/gray_mold/k-fold-data/'\n",
    "train_x = []\n",
    "train_y = []\n",
    "inputs = os.listdir(data_path+'img')\n",
    "inputs.sort()\n",
    "inputs.sort(key=lambda x:int(x[4:-4]))\n",
    "for f in inputs:\n",
    "    train_x.append(data_path+'img/'+f)\n",
    "print(train_x[0])\n",
    "\n",
    "inputs = os.listdir(data_path+'imgAno')\n",
    "inputs.sort()\n",
    "inputs.sort(key=lambda x:int(x[4:-4]))\n",
    "for f in inputs:\n",
    "    train_y.append(data_path+'imgAno/'+f)\n",
    "print(train_y[0])\n"
   ]
  },
  {
   "cell_type": "code",
   "execution_count": null,
   "id": "virgin-coaching",
   "metadata": {},
   "outputs": [],
   "source": [
    "df_imgs = pd.DataFrame(train_x)\n",
    "df_masks = pd.DataFrame(train_y)\n",
    "df = pd.DataFrame(list(zip(train_x,train_y)),columns = ['img','mask'])\n",
    "df.head(10)\n"
   ]
  },
  {
   "cell_type": "code",
   "execution_count": null,
   "id": "described-basics",
   "metadata": {},
   "outputs": [],
   "source": [
    "# Define the K-fold Cross Validator\n",
    "num_folds = 10\n",
    "kfold = KFold(n_splits=num_folds, random_state = 7, shuffle=True)\n",
    "\n",
    "j = 1\n",
    "for train,val in kfold.split(np.zeros(100),df):\n",
    "    train_data = df.iloc[train]\n",
    "    val_data = df.iloc[val]\n",
    "    \n",
    "    for i in range (90):\n",
    "        train_indx = train[i]\n",
    "        train_img_orig = train_data.at[train_indx,'img']\n",
    "        train_mask_orig = train_data.at[train_indx,'mask']\n",
    "        \n",
    "        train_img_filename = train_img_orig.split('/')[-1]\n",
    "        train_mask_filename = train_mask_orig.split('/')[-1]\n",
    "        \n",
    "        train_img_target = 'D:/Anil/Dataset/gray_mold/k-fold/kf'+str(j)+'/train/img/'+train_img_filename\n",
    "        train_mask_target = 'D:/Anil/Dataset/gray_mold/k-fold/kf'+str(j)+'/train/imgAno/'+train_mask_filename\n",
    "        \n",
    "        shutil.copyfile(train_img_orig,train_img_target)\n",
    "        shutil.copyfile(train_mask_orig,train_mask_target)\n",
    "        \n",
    "       \n",
    "    for k in range (10):\n",
    "        val_indx = val[k]\n",
    "        val_img_orig = val_data.at[val_indx,'img']\n",
    "        val_mask_orig = val_data.at[val_indx,'mask']\n",
    "        \n",
    "        val_img_filename = val_img_orig.split('/')[-1]\n",
    "        val_mask_filename = val_mask_orig.split('/')[-1]\n",
    "        \n",
    "        val_img_target = 'D:/Anil/Dataset/gray_mold/k-fold/kf'+str(j)+'/test/img/'+val_img_filename\n",
    "        val_mask_target = 'D:/Anil/Dataset/gray_mold/k-fold/kf'+str(j)+'/test/imgAno/'+val_mask_filename\n",
    "                \n",
    "        shutil.copyfile(val_img_orig,val_img_target)\n",
    "        shutil.copyfile(val_mask_orig,val_mask_target)\n",
    "    \n",
    "    j += 1 \n",
    "    \n",
    "#val_imgs.at[indx,'img']"
   ]
  },
  {
   "cell_type": "code",
   "execution_count": null,
   "id": "imported-dinner",
   "metadata": {},
   "outputs": [],
   "source": []
  }
 ],
 "metadata": {
  "kernelspec": {
   "display_name": "Python 3",
   "language": "python",
   "name": "python3"
  },
  "language_info": {
   "codemirror_mode": {
    "name": "ipython",
    "version": 3
   },
   "file_extension": ".py",
   "mimetype": "text/x-python",
   "name": "python",
   "nbconvert_exporter": "python",
   "pygments_lexer": "ipython3",
   "version": "3.7.10"
  }
 },
 "nbformat": 4,
 "nbformat_minor": 5
}
